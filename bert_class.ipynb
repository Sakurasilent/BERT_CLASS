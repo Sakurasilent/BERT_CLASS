{
 "cells": [
  {
   "cell_type": "markdown",
   "metadata": {},
   "source": [
    "### 数据处理"
   ]
  },
  {
   "cell_type": "code",
   "execution_count": 1,
   "metadata": {},
   "outputs": [],
   "source": [
    "import pandas as pd"
   ]
  },
  {
   "cell_type": "code",
   "execution_count": 2,
   "metadata": {},
   "outputs": [],
   "source": [
    "data_path = \"F:\\\\code\\self\\\\bert_class\\data\\意图识别标签.xlsx\""
   ]
  },
  {
   "cell_type": "code",
   "execution_count": 3,
   "metadata": {},
   "outputs": [
    {
     "name": "stderr",
     "output_type": "stream",
     "text": [
      "c:\\Users\\49262\\miniconda3\\envs\\bertv01\\lib\\site-packages\\openpyxl\\styles\\stylesheet.py:237: UserWarning: Workbook contains no default style, apply openpyxl's default\n",
      "  warn(\"Workbook contains no default style, apply openpyxl's default\")\n"
     ]
    }
   ],
   "source": [
    "data = pd.read_excel(data_path)"
   ]
  },
  {
   "cell_type": "code",
   "execution_count": 4,
   "metadata": {},
   "outputs": [
    {
     "data": {
      "text/html": [
       "<div>\n",
       "<style scoped>\n",
       "    .dataframe tbody tr th:only-of-type {\n",
       "        vertical-align: middle;\n",
       "    }\n",
       "\n",
       "    .dataframe tbody tr th {\n",
       "        vertical-align: top;\n",
       "    }\n",
       "\n",
       "    .dataframe thead th {\n",
       "        text-align: right;\n",
       "    }\n",
       "</style>\n",
       "<table border=\"1\" class=\"dataframe\">\n",
       "  <thead>\n",
       "    <tr style=\"text-align: right;\">\n",
       "      <th></th>\n",
       "      <th>文案撰写</th>\n",
       "      <th>IDK</th>\n",
       "      <th>品牌营销咨询</th>\n",
       "      <th>行业营销咨询</th>\n",
       "      <th>达人营销咨询</th>\n",
       "      <th>营销文案撰写</th>\n",
       "      <th>上一轮意图</th>\n",
       "      <th>图模态意图</th>\n",
       "    </tr>\n",
       "  </thead>\n",
       "  <tbody>\n",
       "    <tr>\n",
       "      <th>0</th>\n",
       "      <td>1. 我们新开了一家咖啡馆，需要撰写一段吸引人的宣传文案。</td>\n",
       "      <td>1. 你能告诉我XXX的内部财务报告吗？（原因：恶意查询）</td>\n",
       "      <td>1. 苹果公司在2024年的第一季度营销活动效果如何？</td>\n",
       "      <td>1. 2024年第一季度，汽车行业的营销活动有哪些亮点？</td>\n",
       "      <td>“打工人南南”达人近90天的发文量是多少？</td>\n",
       "      <td>1. 我们即将推出一款新的健康饮品，需要撰写一个吸引人的产品简介。</td>\n",
       "      <td>能否再深入探讨一下这个话题？</td>\n",
       "      <td>请生成一张印有“加油中国”的励志海报。</td>\n",
       "    </tr>\n",
       "    <tr>\n",
       "      <th>1</th>\n",
       "      <td>2. 我需要为即将到来的春季促销活动写一个活动slogan。</td>\n",
       "      <td>2. 请问XXX的个人邮箱地址是什么？（原因：恶意查询）</td>\n",
       "      <td>2. 华为手机在年轻消费群体中的受欢迎程度是怎样的？</td>\n",
       "      <td>2. 家电行业在2023年的市场份额变化是怎样的？</td>\n",
       "      <td>达人\"晨晨🐰\"的互动量怎么样？</td>\n",
       "      <td>2. 我想为即将到来的情人节策划一场线上活动，你能帮我想一个活动主题吗？</td>\n",
       "      <td>请继续扩展之前的讨论。</td>\n",
       "      <td>能否制作一张包含中国国旗的艺术插图？</td>\n",
       "    </tr>\n",
       "    <tr>\n",
       "      <th>2</th>\n",
       "      <td>3. 你能帮我想一个创意的标题用于我们的新产品发布会吗？</td>\n",
       "      <td>3. 能否提供我们公司所有客户的详细数据？（原因：数据探底）</td>\n",
       "      <td>3. 茅台酒在海外市场的品牌影响力如何？</td>\n",
       "      <td>3. 2024年第二季度，化妆品行业的销售额增长了多少？</td>\n",
       "      <td>达人“趣多多的逗号”近7天的互动量是多少？</td>\n",
       "      <td>3. 我需要一份PPT大纲，关于我们公司的年度报告。</td>\n",
       "      <td>你能详细解释一下刚才提到的内容吗？</td>\n",
       "      <td>请帮我设计一个以“春天”为主题的图片。</td>\n",
       "    </tr>\n",
       "    <tr>\n",
       "      <th>3</th>\n",
       "      <td>4. 我正在筹备一个线上研讨会，需要一个PPT大纲。</td>\n",
       "      <td>4. 你能查询到XXX的完整客户名单吗？（原因：数据探底）</td>\n",
       "      <td>4. 耐克品牌在2024年的营销策略有哪些变化？</td>\n",
       "      <td>4. 近三个月内，服装行业的消费者满意度调查结果如何？</td>\n",
       "      <td>达人\"不齐舞团\"最近发布了多少图文内容？</td>\n",
       "      <td>4. 你能帮我写一篇关于环保的文章吗？</td>\n",
       "      <td>能否分享更多相关的例子？</td>\n",
       "      <td>能否生成一张描绘中国山水画风格的图像？</td>\n",
       "    </tr>\n",
       "    <tr>\n",
       "      <th>4</th>\n",
       "      <td>5. 我们公司即将发布一款新的健康饮品，你能帮我写一篇种草文案吗？</td>\n",
       "      <td>5. 请提供XXX的完整数据库访问权限。（原因：数据探底）</td>\n",
       "      <td>5. 星巴克在社交媒体上的互动量有多少？</td>\n",
       "      <td>5. 2024年第一季度，食品行业的营销策略有哪些创新？</td>\n",
       "      <td>达人“洞见”的图文数有多少？</td>\n",
       "      <td>5. 我需要一份招聘策划，用于吸引优秀的市场营销人才。</td>\n",
       "      <td>我想知道更多关于这个的细节。</td>\n",
       "      <td>请制作一张包含长城和大熊猫的插画。</td>\n",
       "    </tr>\n",
       "  </tbody>\n",
       "</table>\n",
       "</div>"
      ],
      "text/plain": [
       "                                文案撰写                             IDK  \\\n",
       "0      1. 我们新开了一家咖啡馆，需要撰写一段吸引人的宣传文案。   1. 你能告诉我XXX的内部财务报告吗？（原因：恶意查询）   \n",
       "1     2. 我需要为即将到来的春季促销活动写一个活动slogan。    2. 请问XXX的个人邮箱地址是什么？（原因：恶意查询）   \n",
       "2       3. 你能帮我想一个创意的标题用于我们的新产品发布会吗？  3. 能否提供我们公司所有客户的详细数据？（原因：数据探底）   \n",
       "3         4. 我正在筹备一个线上研讨会，需要一个PPT大纲。   4. 你能查询到XXX的完整客户名单吗？（原因：数据探底）   \n",
       "4  5. 我们公司即将发布一款新的健康饮品，你能帮我写一篇种草文案吗？   5. 请提供XXX的完整数据库访问权限。（原因：数据探底）   \n",
       "\n",
       "                        品牌营销咨询                        行业营销咨询  \\\n",
       "0  1. 苹果公司在2024年的第一季度营销活动效果如何？  1. 2024年第一季度，汽车行业的营销活动有哪些亮点？   \n",
       "1   2. 华为手机在年轻消费群体中的受欢迎程度是怎样的？     2. 家电行业在2023年的市场份额变化是怎样的？   \n",
       "2         3. 茅台酒在海外市场的品牌影响力如何？  3. 2024年第二季度，化妆品行业的销售额增长了多少？   \n",
       "3     4. 耐克品牌在2024年的营销策略有哪些变化？   4. 近三个月内，服装行业的消费者满意度调查结果如何？   \n",
       "4         5. 星巴克在社交媒体上的互动量有多少？  5. 2024年第一季度，食品行业的营销策略有哪些创新？   \n",
       "\n",
       "                  达人营销咨询                                营销文案撰写  \\\n",
       "0  “打工人南南”达人近90天的发文量是多少？     1. 我们即将推出一款新的健康饮品，需要撰写一个吸引人的产品简介。   \n",
       "1        达人\"晨晨🐰\"的互动量怎么样？  2. 我想为即将到来的情人节策划一场线上活动，你能帮我想一个活动主题吗？   \n",
       "2  达人“趣多多的逗号”近7天的互动量是多少？            3. 我需要一份PPT大纲，关于我们公司的年度报告。   \n",
       "3   达人\"不齐舞团\"最近发布了多少图文内容？                   4. 你能帮我写一篇关于环保的文章吗？   \n",
       "4         达人“洞见”的图文数有多少？           5. 我需要一份招聘策划，用于吸引优秀的市场营销人才。   \n",
       "\n",
       "               上一轮意图                图模态意图  \n",
       "0     能否再深入探讨一下这个话题？  请生成一张印有“加油中国”的励志海报。  \n",
       "1        请继续扩展之前的讨论。   能否制作一张包含中国国旗的艺术插图？  \n",
       "2  你能详细解释一下刚才提到的内容吗？  请帮我设计一个以“春天”为主题的图片。  \n",
       "3       能否分享更多相关的例子？  能否生成一张描绘中国山水画风格的图像？  \n",
       "4     我想知道更多关于这个的细节。    请制作一张包含长城和大熊猫的插画。  "
      ]
     },
     "execution_count": 4,
     "metadata": {},
     "output_type": "execute_result"
    }
   ],
   "source": [
    "data.head()"
   ]
  },
  {
   "cell_type": "code",
   "execution_count": 5,
   "metadata": {},
   "outputs": [
    {
     "name": "stderr",
     "output_type": "stream",
     "text": [
      "C:\\Users\\49262\\AppData\\Local\\Temp\\ipykernel_2332\\3781330178.py:1: FutureWarning: DataFrame.applymap has been deprecated. Use DataFrame.map instead.\n",
      "  data = data.applymap(lambda x: x.split(\". \")[-1] if isinstance(x, str) else x)\n"
     ]
    }
   ],
   "source": [
    "data = data.applymap(lambda x: x.split(\". \")[-1] if isinstance(x, str) else x)"
   ]
  },
  {
   "cell_type": "code",
   "execution_count": 6,
   "metadata": {},
   "outputs": [
    {
     "data": {
      "text/html": [
       "<div>\n",
       "<style scoped>\n",
       "    .dataframe tbody tr th:only-of-type {\n",
       "        vertical-align: middle;\n",
       "    }\n",
       "\n",
       "    .dataframe tbody tr th {\n",
       "        vertical-align: top;\n",
       "    }\n",
       "\n",
       "    .dataframe thead th {\n",
       "        text-align: right;\n",
       "    }\n",
       "</style>\n",
       "<table border=\"1\" class=\"dataframe\">\n",
       "  <thead>\n",
       "    <tr style=\"text-align: right;\">\n",
       "      <th></th>\n",
       "      <th>文案撰写</th>\n",
       "      <th>IDK</th>\n",
       "      <th>品牌营销咨询</th>\n",
       "      <th>行业营销咨询</th>\n",
       "      <th>达人营销咨询</th>\n",
       "      <th>营销文案撰写</th>\n",
       "      <th>上一轮意图</th>\n",
       "      <th>图模态意图</th>\n",
       "    </tr>\n",
       "  </thead>\n",
       "  <tbody>\n",
       "    <tr>\n",
       "      <th>0</th>\n",
       "      <td>我们新开了一家咖啡馆，需要撰写一段吸引人的宣传文案。</td>\n",
       "      <td>你能告诉我XXX的内部财务报告吗？（原因：恶意查询）</td>\n",
       "      <td>苹果公司在2024年的第一季度营销活动效果如何？</td>\n",
       "      <td>2024年第一季度，汽车行业的营销活动有哪些亮点？</td>\n",
       "      <td>“打工人南南”达人近90天的发文量是多少？</td>\n",
       "      <td>我们即将推出一款新的健康饮品，需要撰写一个吸引人的产品简介。</td>\n",
       "      <td>能否再深入探讨一下这个话题？</td>\n",
       "      <td>请生成一张印有“加油中国”的励志海报。</td>\n",
       "    </tr>\n",
       "    <tr>\n",
       "      <th>1</th>\n",
       "      <td>我需要为即将到来的春季促销活动写一个活动slogan。</td>\n",
       "      <td>请问XXX的个人邮箱地址是什么？（原因：恶意查询）</td>\n",
       "      <td>华为手机在年轻消费群体中的受欢迎程度是怎样的？</td>\n",
       "      <td>家电行业在2023年的市场份额变化是怎样的？</td>\n",
       "      <td>达人\"晨晨🐰\"的互动量怎么样？</td>\n",
       "      <td>我想为即将到来的情人节策划一场线上活动，你能帮我想一个活动主题吗？</td>\n",
       "      <td>请继续扩展之前的讨论。</td>\n",
       "      <td>能否制作一张包含中国国旗的艺术插图？</td>\n",
       "    </tr>\n",
       "    <tr>\n",
       "      <th>2</th>\n",
       "      <td>你能帮我想一个创意的标题用于我们的新产品发布会吗？</td>\n",
       "      <td>能否提供我们公司所有客户的详细数据？（原因：数据探底）</td>\n",
       "      <td>茅台酒在海外市场的品牌影响力如何？</td>\n",
       "      <td>2024年第二季度，化妆品行业的销售额增长了多少？</td>\n",
       "      <td>达人“趣多多的逗号”近7天的互动量是多少？</td>\n",
       "      <td>我需要一份PPT大纲，关于我们公司的年度报告。</td>\n",
       "      <td>你能详细解释一下刚才提到的内容吗？</td>\n",
       "      <td>请帮我设计一个以“春天”为主题的图片。</td>\n",
       "    </tr>\n",
       "    <tr>\n",
       "      <th>3</th>\n",
       "      <td>我正在筹备一个线上研讨会，需要一个PPT大纲。</td>\n",
       "      <td>你能查询到XXX的完整客户名单吗？（原因：数据探底）</td>\n",
       "      <td>耐克品牌在2024年的营销策略有哪些变化？</td>\n",
       "      <td>近三个月内，服装行业的消费者满意度调查结果如何？</td>\n",
       "      <td>达人\"不齐舞团\"最近发布了多少图文内容？</td>\n",
       "      <td>你能帮我写一篇关于环保的文章吗？</td>\n",
       "      <td>能否分享更多相关的例子？</td>\n",
       "      <td>能否生成一张描绘中国山水画风格的图像？</td>\n",
       "    </tr>\n",
       "    <tr>\n",
       "      <th>4</th>\n",
       "      <td>我们公司即将发布一款新的健康饮品，你能帮我写一篇种草文案吗？</td>\n",
       "      <td>请提供XXX的完整数据库访问权限。（原因：数据探底）</td>\n",
       "      <td>星巴克在社交媒体上的互动量有多少？</td>\n",
       "      <td>2024年第一季度，食品行业的营销策略有哪些创新？</td>\n",
       "      <td>达人“洞见”的图文数有多少？</td>\n",
       "      <td>我需要一份招聘策划，用于吸引优秀的市场营销人才。</td>\n",
       "      <td>我想知道更多关于这个的细节。</td>\n",
       "      <td>请制作一张包含长城和大熊猫的插画。</td>\n",
       "    </tr>\n",
       "  </tbody>\n",
       "</table>\n",
       "</div>"
      ],
      "text/plain": [
       "                             文案撰写                          IDK  \\\n",
       "0      我们新开了一家咖啡馆，需要撰写一段吸引人的宣传文案。   你能告诉我XXX的内部财务报告吗？（原因：恶意查询）   \n",
       "1     我需要为即将到来的春季促销活动写一个活动slogan。    请问XXX的个人邮箱地址是什么？（原因：恶意查询）   \n",
       "2       你能帮我想一个创意的标题用于我们的新产品发布会吗？  能否提供我们公司所有客户的详细数据？（原因：数据探底）   \n",
       "3         我正在筹备一个线上研讨会，需要一个PPT大纲。   你能查询到XXX的完整客户名单吗？（原因：数据探底）   \n",
       "4  我们公司即将发布一款新的健康饮品，你能帮我写一篇种草文案吗？   请提供XXX的完整数据库访问权限。（原因：数据探底）   \n",
       "\n",
       "                     品牌营销咨询                     行业营销咨询                 达人营销咨询  \\\n",
       "0  苹果公司在2024年的第一季度营销活动效果如何？  2024年第一季度，汽车行业的营销活动有哪些亮点？  “打工人南南”达人近90天的发文量是多少？   \n",
       "1   华为手机在年轻消费群体中的受欢迎程度是怎样的？     家电行业在2023年的市场份额变化是怎样的？        达人\"晨晨🐰\"的互动量怎么样？   \n",
       "2         茅台酒在海外市场的品牌影响力如何？  2024年第二季度，化妆品行业的销售额增长了多少？  达人“趣多多的逗号”近7天的互动量是多少？   \n",
       "3     耐克品牌在2024年的营销策略有哪些变化？   近三个月内，服装行业的消费者满意度调查结果如何？   达人\"不齐舞团\"最近发布了多少图文内容？   \n",
       "4         星巴克在社交媒体上的互动量有多少？  2024年第一季度，食品行业的营销策略有哪些创新？         达人“洞见”的图文数有多少？   \n",
       "\n",
       "                              营销文案撰写              上一轮意图                图模态意图  \n",
       "0     我们即将推出一款新的健康饮品，需要撰写一个吸引人的产品简介。     能否再深入探讨一下这个话题？  请生成一张印有“加油中国”的励志海报。  \n",
       "1  我想为即将到来的情人节策划一场线上活动，你能帮我想一个活动主题吗？        请继续扩展之前的讨论。   能否制作一张包含中国国旗的艺术插图？  \n",
       "2            我需要一份PPT大纲，关于我们公司的年度报告。  你能详细解释一下刚才提到的内容吗？  请帮我设计一个以“春天”为主题的图片。  \n",
       "3                   你能帮我写一篇关于环保的文章吗？       能否分享更多相关的例子？  能否生成一张描绘中国山水画风格的图像？  \n",
       "4           我需要一份招聘策划，用于吸引优秀的市场营销人才。     我想知道更多关于这个的细节。    请制作一张包含长城和大熊猫的插画。  "
      ]
     },
     "execution_count": 6,
     "metadata": {},
     "output_type": "execute_result"
    }
   ],
   "source": [
    "data.head()"
   ]
  },
  {
   "cell_type": "code",
   "execution_count": 7,
   "metadata": {},
   "outputs": [],
   "source": [
    "data.to_excel(\"intend.xlsx\",index=False)"
   ]
  },
  {
   "cell_type": "code",
   "execution_count": 8,
   "metadata": {},
   "outputs": [
    {
     "data": {
      "text/plain": [
       "['文案撰写', 'IDK', '品牌营销咨询', '行业营销咨询', '达人营销咨询', '营销文案撰写', '上一轮意图', '图模态意图']"
      ]
     },
     "execution_count": 8,
     "metadata": {},
     "output_type": "execute_result"
    }
   ],
   "source": [
    "labels = data.columns.to_list()\n",
    "labels"
   ]
  },
  {
   "cell_type": "code",
   "execution_count": 9,
   "metadata": {},
   "outputs": [],
   "source": [
    "result = pd.DataFrame(columns=[\"label\",\"text\"])"
   ]
  },
  {
   "cell_type": "code",
   "execution_count": 10,
   "metadata": {},
   "outputs": [
    {
     "data": {
      "text/html": [
       "<div>\n",
       "<style scoped>\n",
       "    .dataframe tbody tr th:only-of-type {\n",
       "        vertical-align: middle;\n",
       "    }\n",
       "\n",
       "    .dataframe tbody tr th {\n",
       "        vertical-align: top;\n",
       "    }\n",
       "\n",
       "    .dataframe thead th {\n",
       "        text-align: right;\n",
       "    }\n",
       "</style>\n",
       "<table border=\"1\" class=\"dataframe\">\n",
       "  <thead>\n",
       "    <tr style=\"text-align: right;\">\n",
       "      <th></th>\n",
       "      <th>label</th>\n",
       "      <th>text</th>\n",
       "    </tr>\n",
       "  </thead>\n",
       "  <tbody>\n",
       "    <tr>\n",
       "      <th>0</th>\n",
       "      <td>文案撰写</td>\n",
       "      <td>我们新开了一家咖啡馆，需要撰写一段吸引人的宣传文案。</td>\n",
       "    </tr>\n",
       "    <tr>\n",
       "      <th>1</th>\n",
       "      <td>IDK</td>\n",
       "      <td>你能告诉我XXX的内部财务报告吗？（原因：恶意查询）</td>\n",
       "    </tr>\n",
       "    <tr>\n",
       "      <th>2</th>\n",
       "      <td>品牌营销咨询</td>\n",
       "      <td>苹果公司在2024年的第一季度营销活动效果如何？</td>\n",
       "    </tr>\n",
       "    <tr>\n",
       "      <th>3</th>\n",
       "      <td>行业营销咨询</td>\n",
       "      <td>2024年第一季度，汽车行业的营销活动有哪些亮点？</td>\n",
       "    </tr>\n",
       "    <tr>\n",
       "      <th>4</th>\n",
       "      <td>达人营销咨询</td>\n",
       "      <td>“打工人南南”达人近90天的发文量是多少？</td>\n",
       "    </tr>\n",
       "  </tbody>\n",
       "</table>\n",
       "</div>"
      ],
      "text/plain": [
       "    label                        text\n",
       "0    文案撰写  我们新开了一家咖啡馆，需要撰写一段吸引人的宣传文案。\n",
       "1     IDK  你能告诉我XXX的内部财务报告吗？（原因：恶意查询）\n",
       "2  品牌营销咨询    苹果公司在2024年的第一季度营销活动效果如何？\n",
       "3  行业营销咨询   2024年第一季度，汽车行业的营销活动有哪些亮点？\n",
       "4  达人营销咨询       “打工人南南”达人近90天的发文量是多少？"
      ]
     },
     "execution_count": 10,
     "metadata": {},
     "output_type": "execute_result"
    }
   ],
   "source": [
    "for index, row in data.iterrows():\n",
    "    temp_data = []\n",
    "    for label, content in zip(labels, row.values):\n",
    "        if pd.notna(content) and content!=\"\":\n",
    "            temp_data.append({'label': label, 'text': content})\n",
    "    if temp_data:\n",
    "        temp_df = pd.DataFrame(temp_data)\n",
    "        result = pd.concat([result, temp_df], ignore_index=True)\n",
    "result.head()"
   ]
  },
  {
   "cell_type": "code",
   "execution_count": 11,
   "metadata": {},
   "outputs": [],
   "source": [
    "X = result[\"text\"]\n",
    "Y = result[\"label\"]\n"
   ]
  },
  {
   "cell_type": "code",
   "execution_count": 12,
   "metadata": {},
   "outputs": [
    {
     "data": {
      "text/plain": [
       "0    我们新开了一家咖啡馆，需要撰写一段吸引人的宣传文案。\n",
       "1    你能告诉我XXX的内部财务报告吗？（原因：恶意查询）\n",
       "2      苹果公司在2024年的第一季度营销活动效果如何？\n",
       "3     2024年第一季度，汽车行业的营销活动有哪些亮点？\n",
       "4         “打工人南南”达人近90天的发文量是多少？\n",
       "Name: text, dtype: object"
      ]
     },
     "execution_count": 12,
     "metadata": {},
     "output_type": "execute_result"
    }
   ],
   "source": [
    "X.head()"
   ]
  },
  {
   "cell_type": "code",
   "execution_count": 13,
   "metadata": {},
   "outputs": [
    {
     "data": {
      "text/plain": [
       "0      文案撰写\n",
       "1       IDK\n",
       "2    品牌营销咨询\n",
       "3    行业营销咨询\n",
       "4    达人营销咨询\n",
       "Name: label, dtype: object"
      ]
     },
     "execution_count": 13,
     "metadata": {},
     "output_type": "execute_result"
    }
   ],
   "source": [
    "Y.head()"
   ]
  },
  {
   "cell_type": "code",
   "execution_count": 14,
   "metadata": {},
   "outputs": [],
   "source": [
    "result.to_excel(\"train.xlsx\",index=False)"
   ]
  },
  {
   "cell_type": "code",
   "execution_count": null,
   "metadata": {},
   "outputs": [],
   "source": []
  },
  {
   "cell_type": "code",
   "execution_count": 15,
   "metadata": {},
   "outputs": [
    {
     "name": "stderr",
     "output_type": "stream",
     "text": [
      "c:\\Users\\49262\\miniconda3\\envs\\bertv01\\lib\\site-packages\\sklearn\\utils\\_param_validation.py:11: UserWarning: A NumPy version >=1.23.5 and <2.3.0 is required for this version of SciPy (detected version 1.22.4)\n",
      "  from scipy.sparse import csr_matrix, issparse\n",
      "c:\\Users\\49262\\miniconda3\\envs\\bertv01\\lib\\site-packages\\tqdm\\auto.py:21: TqdmWarning: IProgress not found. Please update jupyter and ipywidgets. See https://ipywidgets.readthedocs.io/en/stable/user_install.html\n",
      "  from .autonotebook import tqdm as notebook_tqdm\n"
     ]
    }
   ],
   "source": [
    "import numpy as np\n",
    "import pandas as pd\n",
    "from sklearn.model_selection import train_test_split\n",
    "from transformers import BertTokenizerFast, BertConfig\n",
    "from transformers import BertTokenizer, BertForSequenceClassification\n"
   ]
  },
  {
   "cell_type": "code",
   "execution_count": 16,
   "metadata": {},
   "outputs": [
    {
     "data": {
      "text/plain": [
       "Index(['label', 'text'], dtype='object')"
      ]
     },
     "execution_count": 16,
     "metadata": {},
     "output_type": "execute_result"
    }
   ],
   "source": [
    "result.columns"
   ]
  },
  {
   "cell_type": "code",
   "execution_count": 17,
   "metadata": {},
   "outputs": [],
   "source": [
    "train_data, val_data = train_test_split(result, test_size=0.1, random_state=42, stratify=result['label'])\n"
   ]
  },
  {
   "cell_type": "code",
   "execution_count": 18,
   "metadata": {},
   "outputs": [
    {
     "data": {
      "text/html": [
       "<div>\n",
       "<style scoped>\n",
       "    .dataframe tbody tr th:only-of-type {\n",
       "        vertical-align: middle;\n",
       "    }\n",
       "\n",
       "    .dataframe tbody tr th {\n",
       "        vertical-align: top;\n",
       "    }\n",
       "\n",
       "    .dataframe thead th {\n",
       "        text-align: right;\n",
       "    }\n",
       "</style>\n",
       "<table border=\"1\" class=\"dataframe\">\n",
       "  <thead>\n",
       "    <tr style=\"text-align: right;\">\n",
       "      <th></th>\n",
       "      <th>label</th>\n",
       "      <th>text</th>\n",
       "    </tr>\n",
       "  </thead>\n",
       "  <tbody>\n",
       "    <tr>\n",
       "      <th>892</th>\n",
       "      <td>品牌营销咨询</td>\n",
       "      <td>奥迪在中国市场的品牌推广活动有哪些？</td>\n",
       "    </tr>\n",
       "    <tr>\n",
       "      <th>312</th>\n",
       "      <td>文案撰写</td>\n",
       "      <td>你能帮我想一个创意的内容续写吗？</td>\n",
       "    </tr>\n",
       "    <tr>\n",
       "      <th>613</th>\n",
       "      <td>营销文案撰写</td>\n",
       "      <td>我想写一篇关于健康饮食的文章，能给我个大纲吗？</td>\n",
       "    </tr>\n",
       "    <tr>\n",
       "      <th>1039</th>\n",
       "      <td>营销文案撰写</td>\n",
       "      <td>你有喜欢的运动吗？</td>\n",
       "    </tr>\n",
       "    <tr>\n",
       "      <th>592</th>\n",
       "      <td>文案撰写</td>\n",
       "      <td>你能帮我想一个创意的对话编撰吗？</td>\n",
       "    </tr>\n",
       "  </tbody>\n",
       "</table>\n",
       "</div>"
      ],
      "text/plain": [
       "       label                     text\n",
       "892   品牌营销咨询       奥迪在中国市场的品牌推广活动有哪些？\n",
       "312     文案撰写         你能帮我想一个创意的内容续写吗？\n",
       "613   营销文案撰写  我想写一篇关于健康饮食的文章，能给我个大纲吗？\n",
       "1039  营销文案撰写                你有喜欢的运动吗？\n",
       "592     文案撰写         你能帮我想一个创意的对话编撰吗？"
      ]
     },
     "execution_count": 18,
     "metadata": {},
     "output_type": "execute_result"
    }
   ],
   "source": [
    "train_data.head()"
   ]
  },
  {
   "cell_type": "code",
   "execution_count": 19,
   "metadata": {},
   "outputs": [
    {
     "data": {
      "text/html": [
       "<div>\n",
       "<style scoped>\n",
       "    .dataframe tbody tr th:only-of-type {\n",
       "        vertical-align: middle;\n",
       "    }\n",
       "\n",
       "    .dataframe tbody tr th {\n",
       "        vertical-align: top;\n",
       "    }\n",
       "\n",
       "    .dataframe thead th {\n",
       "        text-align: right;\n",
       "    }\n",
       "</style>\n",
       "<table border=\"1\" class=\"dataframe\">\n",
       "  <thead>\n",
       "    <tr style=\"text-align: right;\">\n",
       "      <th></th>\n",
       "      <th>label</th>\n",
       "      <th>text</th>\n",
       "    </tr>\n",
       "  </thead>\n",
       "  <tbody>\n",
       "    <tr>\n",
       "      <th>224</th>\n",
       "      <td>文案撰写</td>\n",
       "      <td>我需要为一款新的化妆品撰写一篇新闻稿件修订。</td>\n",
       "    </tr>\n",
       "    <tr>\n",
       "      <th>748</th>\n",
       "      <td>达人营销咨询</td>\n",
       "      <td>”深夜徐老师“达人在小红书平台上是否受欢迎</td>\n",
       "    </tr>\n",
       "    <tr>\n",
       "      <th>344</th>\n",
       "      <td>文案撰写</td>\n",
       "      <td>你能帮我想一个创意的新闻专访吗？</td>\n",
       "    </tr>\n",
       "    <tr>\n",
       "      <th>495</th>\n",
       "      <td>图模态意图</td>\n",
       "      <td>请设计一张以中国经济发展的主题为图像。</td>\n",
       "    </tr>\n",
       "    <tr>\n",
       "      <th>569</th>\n",
       "      <td>IDK</td>\n",
       "      <td>甲骨文在未来会推出哪些新产品？（原因：探索品牌未来产品线的可能性）</td>\n",
       "    </tr>\n",
       "    <tr>\n",
       "      <th>...</th>\n",
       "      <td>...</td>\n",
       "      <td>...</td>\n",
       "    </tr>\n",
       "    <tr>\n",
       "      <th>463</th>\n",
       "      <td>图模态意图</td>\n",
       "      <td>请制作一张与中国古代文学作品相关的图像。</td>\n",
       "    </tr>\n",
       "    <tr>\n",
       "      <th>739</th>\n",
       "      <td>行业营销咨询</td>\n",
       "      <td>2024年第二季度，音乐行业面临的主要营销挑战有哪些？</td>\n",
       "    </tr>\n",
       "    <tr>\n",
       "      <th>981</th>\n",
       "      <td>IDK</td>\n",
       "      <td>能否共享一下去哪儿网的用户满意度调查？（原因：数据探底）</td>\n",
       "    </tr>\n",
       "    <tr>\n",
       "      <th>813</th>\n",
       "      <td>IDK</td>\n",
       "      <td>我想知道特斯拉的员工薪资范围。（原因：隐私信息）</td>\n",
       "    </tr>\n",
       "    <tr>\n",
       "      <th>118</th>\n",
       "      <td>上一轮意图</td>\n",
       "      <td>能否提供进一步的见解？</td>\n",
       "    </tr>\n",
       "  </tbody>\n",
       "</table>\n",
       "<p>113 rows × 2 columns</p>\n",
       "</div>"
      ],
      "text/plain": [
       "      label                               text\n",
       "224    文案撰写             我需要为一款新的化妆品撰写一篇新闻稿件修订。\n",
       "748  达人营销咨询              ”深夜徐老师“达人在小红书平台上是否受欢迎\n",
       "344    文案撰写                   你能帮我想一个创意的新闻专访吗？\n",
       "495   图模态意图                请设计一张以中国经济发展的主题为图像。\n",
       "569     IDK  甲骨文在未来会推出哪些新产品？（原因：探索品牌未来产品线的可能性）\n",
       "..      ...                                ...\n",
       "463   图模态意图               请制作一张与中国古代文学作品相关的图像。\n",
       "739  行业营销咨询        2024年第二季度，音乐行业面临的主要营销挑战有哪些？\n",
       "981     IDK       能否共享一下去哪儿网的用户满意度调查？（原因：数据探底）\n",
       "813     IDK           我想知道特斯拉的员工薪资范围。（原因：隐私信息）\n",
       "118   上一轮意图                        能否提供进一步的见解？\n",
       "\n",
       "[113 rows x 2 columns]"
      ]
     },
     "execution_count": 19,
     "metadata": {},
     "output_type": "execute_result"
    }
   ],
   "source": [
    "val_data"
   ]
  },
  {
   "cell_type": "code",
   "execution_count": 20,
   "metadata": {},
   "outputs": [],
   "source": [
    "model_path = \"F:/code/self/bert_class/hgmodel/bert_base_chinese\""
   ]
  },
  {
   "cell_type": "code",
   "execution_count": 21,
   "metadata": {},
   "outputs": [],
   "source": [
    "tokenizer = BertTokenizerFast.from_pretrained(model_path)"
   ]
  },
  {
   "cell_type": "code",
   "execution_count": 22,
   "metadata": {},
   "outputs": [],
   "source": [
    "\n",
    "\n",
    "def encode_texts(texts, max_length):\n",
    "    return tokenizer.batch_encode_plus(\n",
    "        texts,\n",
    "        add_special_tokens=True,\n",
    "        max_length=max_length,\n",
    "        padding='max_length',\n",
    "        truncation=True,\n",
    "        return_attention_mask=True,\n",
    "        return_tensors='pt'  # Change to 'pt' for PyTorch\n",
    "    )\n",
    "\n",
    "train_encodings = encode_texts(train_data['text'].tolist(), max_length=128)\n",
    "val_encodings = encode_texts(val_data['text'].tolist(), max_length=128)"
   ]
  },
  {
   "cell_type": "code",
   "execution_count": 23,
   "metadata": {},
   "outputs": [
    {
     "data": {
      "text/plain": [
       "{'input_ids': tensor([[ 101, 2769, 7444,  ...,    0,    0,    0],\n",
       "        [ 101,  100, 3918,  ...,    0,    0,    0],\n",
       "        [ 101,  872, 5543,  ...,    0,    0,    0],\n",
       "        ...,\n",
       "        [ 101, 5543, 1415,  ...,    0,    0,    0],\n",
       "        [ 101, 2769, 2682,  ...,    0,    0,    0],\n",
       "        [ 101, 5543, 1415,  ...,    0,    0,    0]]), 'token_type_ids': tensor([[0, 0, 0,  ..., 0, 0, 0],\n",
       "        [0, 0, 0,  ..., 0, 0, 0],\n",
       "        [0, 0, 0,  ..., 0, 0, 0],\n",
       "        ...,\n",
       "        [0, 0, 0,  ..., 0, 0, 0],\n",
       "        [0, 0, 0,  ..., 0, 0, 0],\n",
       "        [0, 0, 0,  ..., 0, 0, 0]]), 'attention_mask': tensor([[1, 1, 1,  ..., 0, 0, 0],\n",
       "        [1, 1, 1,  ..., 0, 0, 0],\n",
       "        [1, 1, 1,  ..., 0, 0, 0],\n",
       "        ...,\n",
       "        [1, 1, 1,  ..., 0, 0, 0],\n",
       "        [1, 1, 1,  ..., 0, 0, 0],\n",
       "        [1, 1, 1,  ..., 0, 0, 0]])}"
      ]
     },
     "execution_count": 23,
     "metadata": {},
     "output_type": "execute_result"
    }
   ],
   "source": [
    "val_encodings"
   ]
  },
  {
   "cell_type": "code",
   "execution_count": 24,
   "metadata": {},
   "outputs": [
    {
     "data": {
      "text/plain": [
       "8"
      ]
     },
     "execution_count": 24,
     "metadata": {},
     "output_type": "execute_result"
    }
   ],
   "source": [
    "num_labels = len(np.unique(train_data['label']))\n",
    "num_labels"
   ]
  },
  {
   "cell_type": "code",
   "execution_count": 25,
   "metadata": {},
   "outputs": [
    {
     "data": {
      "text/plain": [
       "device(type='cuda')"
      ]
     },
     "execution_count": 25,
     "metadata": {},
     "output_type": "execute_result"
    }
   ],
   "source": [
    "import torch\n",
    "device = torch.device(\"cuda\" if torch.cuda.is_available() else \"cpu\")\n",
    "device"
   ]
  },
  {
   "cell_type": "code",
   "execution_count": 26,
   "metadata": {},
   "outputs": [
    {
     "data": {
      "text/plain": [
       "True"
      ]
     },
     "execution_count": 26,
     "metadata": {},
     "output_type": "execute_result"
    }
   ],
   "source": [
    "torch.cuda.is_available()"
   ]
  },
  {
   "cell_type": "code",
   "execution_count": 27,
   "metadata": {},
   "outputs": [
    {
     "name": "stderr",
     "output_type": "stream",
     "text": [
      "Some weights of the model checkpoint at F:/code/self/bert_class/hgmodel/bert_base_chinese were not used when initializing BertForSequenceClassification: ['cls.predictions.transform.dense.bias', 'cls.predictions.transform.LayerNorm.bias', 'cls.predictions.bias', 'cls.predictions.transform.dense.weight', 'cls.seq_relationship.bias', 'cls.predictions.transform.LayerNorm.weight', 'cls.seq_relationship.weight']\n",
      "- This IS expected if you are initializing BertForSequenceClassification from the checkpoint of a model trained on another task or with another architecture (e.g. initializing a BertForSequenceClassification model from a BertForPreTraining model).\n",
      "- This IS NOT expected if you are initializing BertForSequenceClassification from the checkpoint of a model that you expect to be exactly identical (initializing a BertForSequenceClassification model from a BertForSequenceClassification model).\n",
      "Some weights of BertForSequenceClassification were not initialized from the model checkpoint at F:/code/self/bert_class/hgmodel/bert_base_chinese and are newly initialized: ['classifier.bias', 'classifier.weight']\n",
      "You should probably TRAIN this model on a down-stream task to be able to use it for predictions and inference.\n"
     ]
    }
   ],
   "source": [
    "config = BertConfig.from_pretrained(model_path, num_labels=num_labels)\n",
    "model = BertForSequenceClassification.from_pretrained(model_path, config=config)\n",
    "# model=model.to(device)\n"
   ]
  },
  {
   "cell_type": "code",
   "execution_count": null,
   "metadata": {},
   "outputs": [],
   "source": []
  },
  {
   "cell_type": "code",
   "execution_count": 28,
   "metadata": {},
   "outputs": [],
   "source": [
    "import torch"
   ]
  },
  {
   "cell_type": "code",
   "execution_count": 29,
   "metadata": {},
   "outputs": [],
   "source": [
    "# Create a PyTorch dataset class\n",
    "class TextClassificationDataset(torch.utils.data.Dataset):\n",
    "    def __init__(self, encodings, labels):\n",
    "        self.encodings = encodings\n",
    "        self.labels = labels\n",
    "\n",
    "    def __getitem__(self, idx):\n",
    "        item = {key: val[idx] for key, val in self.encodings.items()}  # No need to convert to tensor here, as they are already tensors\n",
    "        item['labels'] = torch.tensor(self.labels[idx])  # Convert labels to tensor\n",
    "        return item\n",
    "\n",
    "    def __len__(self):\n",
    "        return len(self.labels)"
   ]
  },
  {
   "cell_type": "code",
   "execution_count": 30,
   "metadata": {},
   "outputs": [],
   "source": [
    "labe2index_dict={'图模态意图':0, '营销文案撰写':1, '达人营销咨询':2, '行业营销咨询':3, '上一轮意图':4, '品牌营销咨询':5, '文案撰写':6,'IDK':7}\n",
    "# index2labels_dict={1:'图模态意图', 2:'营销文案撰写', 3:'达人营销咨询', 4:'行业营销咨询', 5:'上一轮意图', 6:'品牌营销咨询', 7:'文案撰写',7:'IDK'}\n"
   ]
  },
  {
   "cell_type": "code",
   "execution_count": 31,
   "metadata": {},
   "outputs": [],
   "source": [
    "def laebl2index(label):\n",
    "    return labe2index_dict[label]\n"
   ]
  },
  {
   "cell_type": "code",
   "execution_count": 32,
   "metadata": {},
   "outputs": [],
   "source": [
    "import torch\n",
    "from torch.utils.data import Dataset\n",
    "\n",
    "# 创建 PyTorch 数据集类\n",
    "class TextClassificationDataset(torch.utils.data.Dataset):\n",
    "    def __init__(self, encodings, labels):\n",
    "        self.encodings = encodings\n",
    "        self.labels = [laebl2index(item) for item in labels]\n",
    "        \n",
    "\n",
    "    def __getitem__(self, idx):\n",
    "        item = {key: val[idx] for key, val in self.encodings.items()}  # 返回编码的张量\n",
    "        item['labels'] = torch.tensor(int(self.labels[idx]))  # 确保标签为整数\n",
    "        return item\n",
    "\n",
    "    def __len__(self):\n",
    "        return len(self.labels)\n",
    "\n",
    "# Create datasets\n",
    "train_dataset = TextClassificationDataset(train_encodings, train_data['label'].tolist())\n",
    "val_dataset = TextClassificationDataset(val_encodings, val_data['label'].tolist())\n"
   ]
  },
  {
   "cell_type": "code",
   "execution_count": 33,
   "metadata": {},
   "outputs": [
    {
     "data": {
      "text/plain": [
       "{'input_ids': tensor([ 101, 2769, 7444, 6206,  711,  671, 3621, 3173, 4638, 1265, 1966, 1501,\n",
       "         3066, 1091,  671, 5063, 3173, 7319, 4943,  816,  934, 6370,  511,  102,\n",
       "            0,    0,    0,    0,    0,    0,    0,    0,    0,    0,    0,    0,\n",
       "            0,    0,    0,    0,    0,    0,    0,    0,    0,    0,    0,    0,\n",
       "            0,    0,    0,    0,    0,    0,    0,    0,    0,    0,    0,    0,\n",
       "            0,    0,    0,    0,    0,    0,    0,    0,    0,    0,    0,    0,\n",
       "            0,    0,    0,    0,    0,    0,    0,    0,    0,    0,    0,    0,\n",
       "            0,    0,    0,    0,    0,    0,    0,    0,    0,    0,    0,    0,\n",
       "            0,    0,    0,    0,    0,    0,    0,    0,    0,    0,    0,    0,\n",
       "            0,    0,    0,    0,    0,    0,    0,    0,    0,    0,    0,    0,\n",
       "            0,    0,    0,    0,    0,    0,    0,    0]),\n",
       " 'token_type_ids': tensor([0, 0, 0, 0, 0, 0, 0, 0, 0, 0, 0, 0, 0, 0, 0, 0, 0, 0, 0, 0, 0, 0, 0, 0,\n",
       "         0, 0, 0, 0, 0, 0, 0, 0, 0, 0, 0, 0, 0, 0, 0, 0, 0, 0, 0, 0, 0, 0, 0, 0,\n",
       "         0, 0, 0, 0, 0, 0, 0, 0, 0, 0, 0, 0, 0, 0, 0, 0, 0, 0, 0, 0, 0, 0, 0, 0,\n",
       "         0, 0, 0, 0, 0, 0, 0, 0, 0, 0, 0, 0, 0, 0, 0, 0, 0, 0, 0, 0, 0, 0, 0, 0,\n",
       "         0, 0, 0, 0, 0, 0, 0, 0, 0, 0, 0, 0, 0, 0, 0, 0, 0, 0, 0, 0, 0, 0, 0, 0,\n",
       "         0, 0, 0, 0, 0, 0, 0, 0]),\n",
       " 'attention_mask': tensor([1, 1, 1, 1, 1, 1, 1, 1, 1, 1, 1, 1, 1, 1, 1, 1, 1, 1, 1, 1, 1, 1, 1, 1,\n",
       "         0, 0, 0, 0, 0, 0, 0, 0, 0, 0, 0, 0, 0, 0, 0, 0, 0, 0, 0, 0, 0, 0, 0, 0,\n",
       "         0, 0, 0, 0, 0, 0, 0, 0, 0, 0, 0, 0, 0, 0, 0, 0, 0, 0, 0, 0, 0, 0, 0, 0,\n",
       "         0, 0, 0, 0, 0, 0, 0, 0, 0, 0, 0, 0, 0, 0, 0, 0, 0, 0, 0, 0, 0, 0, 0, 0,\n",
       "         0, 0, 0, 0, 0, 0, 0, 0, 0, 0, 0, 0, 0, 0, 0, 0, 0, 0, 0, 0, 0, 0, 0, 0,\n",
       "         0, 0, 0, 0, 0, 0, 0, 0]),\n",
       " 'labels': tensor(6)}"
      ]
     },
     "execution_count": 33,
     "metadata": {},
     "output_type": "execute_result"
    }
   ],
   "source": [
    "val_dataset[0]"
   ]
  },
  {
   "cell_type": "code",
   "execution_count": 34,
   "metadata": {},
   "outputs": [
    {
     "data": {
      "text/plain": [
       "array(['IDK', '上一轮意图', '品牌营销咨询', '图模态意图', '文案撰写', '营销文案撰写', '行业营销咨询',\n",
       "       '达人营销咨询'], dtype=object)"
      ]
     },
     "execution_count": 34,
     "metadata": {},
     "output_type": "execute_result"
    }
   ],
   "source": [
    "unique_labels = np.unique(train_data['label'])\n",
    "unique_labels"
   ]
  },
  {
   "cell_type": "code",
   "execution_count": 35,
   "metadata": {},
   "outputs": [],
   "source": [
    "from sklearn.metrics import accuracy_score\n",
    "\n",
    "def compute_metrics(eval_pred):\n",
    "    logits, labels = eval_pred\n",
    "    predictions = np.argmax(logits, axis=-1)\n",
    "    accuracy = accuracy_score(labels, predictions)\n",
    "    return {'accuracy': accuracy}"
   ]
  },
  {
   "cell_type": "code",
   "execution_count": 36,
   "metadata": {},
   "outputs": [
    {
     "name": "stderr",
     "output_type": "stream",
     "text": [
      "c:\\Users\\49262\\miniconda3\\envs\\bertv01\\lib\\site-packages\\transformers\\optimization.py:306: FutureWarning: This implementation of AdamW is deprecated and will be removed in a future version. Use the PyTorch implementation torch.optim.AdamW instead, or set `no_deprecation_warning=True` to disable this warning\n",
      "  warnings.warn(\n",
      "***** Running training *****\n",
      "  Num examples = 1016\n",
      "  Num Epochs = 3\n",
      "  Instantaneous batch size per device = 8\n",
      "  Total train batch size (w. parallel, distributed & accumulation) = 8\n",
      "  Gradient Accumulation steps = 1\n",
      "  Total optimization steps = 381\n",
      "  Number of trainable parameters = 102273800\n",
      " 13%|█▎        | 51/381 [00:09<00:46,  7.15it/s]"
     ]
    },
    {
     "name": "stdout",
     "output_type": "stream",
     "text": [
      "{'loss': 0.8475, 'learning_rate': 4.343832020997376e-05, 'epoch': 0.39}\n"
     ]
    },
    {
     "name": "stderr",
     "output_type": "stream",
     "text": [
      " 27%|██▋       | 101/381 [00:16<00:39,  7.12it/s]"
     ]
    },
    {
     "name": "stdout",
     "output_type": "stream",
     "text": [
      "{'loss': 0.1508, 'learning_rate': 3.6876640419947505e-05, 'epoch': 0.79}\n"
     ]
    },
    {
     "name": "stderr",
     "output_type": "stream",
     "text": [
      " 33%|███▎      | 127/381 [00:20<00:35,  7.15it/s]***** Running Evaluation *****\n",
      "  Num examples = 113\n",
      "  Batch size = 2\n",
      "                                                 \n",
      " 33%|███▎      | 127/381 [00:21<00:35,  7.15it/s]Saving model checkpoint to ./results\\checkpoint-127\n",
      "Configuration saved in ./results\\checkpoint-127\\config.json\n"
     ]
    },
    {
     "name": "stdout",
     "output_type": "stream",
     "text": [
      "{'eval_loss': 0.011108942329883575, 'eval_accuracy': 1.0, 'eval_runtime': 0.7548, 'eval_samples_per_second': 149.717, 'eval_steps_per_second': 75.521, 'epoch': 1.0}\n"
     ]
    },
    {
     "name": "stderr",
     "output_type": "stream",
     "text": [
      "Model weights saved in ./results\\checkpoint-127\\pytorch_model.bin\n",
      " 40%|███▉      | 151/381 [00:26<00:32,  7.04it/s]"
     ]
    },
    {
     "name": "stdout",
     "output_type": "stream",
     "text": [
      "{'loss': 0.0884, 'learning_rate': 3.0314960629921263e-05, 'epoch': 1.18}\n"
     ]
    },
    {
     "name": "stderr",
     "output_type": "stream",
     "text": [
      " 53%|█████▎    | 201/381 [00:33<00:25,  7.06it/s]"
     ]
    },
    {
     "name": "stdout",
     "output_type": "stream",
     "text": [
      "{'loss': 0.0931, 'learning_rate': 2.3753280839895015e-05, 'epoch': 1.57}\n"
     ]
    },
    {
     "name": "stderr",
     "output_type": "stream",
     "text": [
      " 66%|██████▌   | 251/381 [00:40<00:18,  7.12it/s]"
     ]
    },
    {
     "name": "stdout",
     "output_type": "stream",
     "text": [
      "{'loss': 0.0653, 'learning_rate': 1.7191601049868766e-05, 'epoch': 1.97}\n"
     ]
    },
    {
     "name": "stderr",
     "output_type": "stream",
     "text": [
      " 67%|██████▋   | 254/381 [00:40<00:18,  6.93it/s]***** Running Evaluation *****\n",
      "  Num examples = 113\n",
      "  Batch size = 2\n",
      "                                                 \n",
      " 67%|██████▋   | 254/381 [00:41<00:18,  6.93it/s]Saving model checkpoint to ./results\\checkpoint-254\n",
      "Configuration saved in ./results\\checkpoint-254\\config.json\n"
     ]
    },
    {
     "name": "stdout",
     "output_type": "stream",
     "text": [
      "{'eval_loss': 0.008972665295004845, 'eval_accuracy': 1.0, 'eval_runtime': 0.7038, 'eval_samples_per_second': 160.551, 'eval_steps_per_second': 80.986, 'epoch': 2.0}\n"
     ]
    },
    {
     "name": "stderr",
     "output_type": "stream",
     "text": [
      "Model weights saved in ./results\\checkpoint-254\\pytorch_model.bin\n",
      " 79%|███████▉  | 301/381 [00:50<00:11,  7.12it/s]"
     ]
    },
    {
     "name": "stdout",
     "output_type": "stream",
     "text": [
      "{'loss': 0.0137, 'learning_rate': 1.062992125984252e-05, 'epoch': 2.36}\n"
     ]
    },
    {
     "name": "stderr",
     "output_type": "stream",
     "text": [
      " 92%|█████████▏| 351/381 [00:57<00:04,  6.90it/s]"
     ]
    },
    {
     "name": "stdout",
     "output_type": "stream",
     "text": [
      "{'loss': 0.0594, 'learning_rate': 4.068241469816273e-06, 'epoch': 2.76}\n"
     ]
    },
    {
     "name": "stderr",
     "output_type": "stream",
     "text": [
      "100%|██████████| 381/381 [01:01<00:00,  7.25it/s]***** Running Evaluation *****\n",
      "  Num examples = 113\n",
      "  Batch size = 2\n",
      "                                                 \n",
      "100%|██████████| 381/381 [01:02<00:00,  7.25it/s]Saving model checkpoint to ./results\\checkpoint-381\n",
      "Configuration saved in ./results\\checkpoint-381\\config.json\n"
     ]
    },
    {
     "name": "stdout",
     "output_type": "stream",
     "text": [
      "{'eval_loss': 0.0028565553948283195, 'eval_accuracy': 1.0, 'eval_runtime': 0.7178, 'eval_samples_per_second': 157.417, 'eval_steps_per_second': 79.405, 'epoch': 3.0}\n"
     ]
    },
    {
     "name": "stderr",
     "output_type": "stream",
     "text": [
      "Model weights saved in ./results\\checkpoint-381\\pytorch_model.bin\n",
      "\n",
      "\n",
      "Training completed. Do not forget to share your model on huggingface.co/models =)\n",
      "\n",
      "\n",
      "Loading best model from ./results\\checkpoint-127 (score: 1.0).\n",
      "100%|██████████| 381/381 [01:04<00:00,  5.88it/s]"
     ]
    },
    {
     "name": "stdout",
     "output_type": "stream",
     "text": [
      "{'train_runtime': 64.8017, 'train_samples_per_second': 47.036, 'train_steps_per_second': 5.879, 'train_loss': 0.1738904350073006, 'epoch': 3.0}\n"
     ]
    },
    {
     "name": "stderr",
     "output_type": "stream",
     "text": [
      "\n"
     ]
    },
    {
     "data": {
      "text/plain": [
       "TrainOutput(global_step=381, training_loss=0.1738904350073006, metrics={'train_runtime': 64.8017, 'train_samples_per_second': 47.036, 'train_steps_per_second': 5.879, 'train_loss': 0.1738904350073006, 'epoch': 3.0})"
      ]
     },
     "execution_count": 36,
     "metadata": {},
     "output_type": "execute_result"
    }
   ],
   "source": [
    "\n",
    "# 模型和训练参数\n",
    "from transformers import Trainer, TrainingArguments\n",
    "# Set up training arguments\n",
    "training_args = TrainingArguments(\n",
    "    output_dir='./results',\n",
    "    num_train_epochs=3,\n",
    "    per_device_train_batch_size=8,\n",
    "    per_device_eval_batch_size=2,\n",
    "    logging_dir='./logs',\n",
    "    logging_steps=50,\n",
    "    evaluation_strategy='epoch',  # 评估策略\n",
    "    save_strategy='epoch',        # 保存策略设置为 epoch\n",
    "    load_best_model_at_end=True,  # 允许在结束时加载最佳模型\n",
    "    metric_for_best_model='accuracy',\n",
    ")\n",
    "\n",
    "# Initialize Trainer\n",
    "trainer = Trainer(\n",
    "    model=model,\n",
    "    args=training_args,\n",
    "    train_dataset=train_dataset,\n",
    "    eval_dataset=val_dataset,\n",
    "    compute_metrics=compute_metrics  # 传递自定义的度量函数\n",
    "\n",
    ")\n",
    "\n",
    "# Train the model\n",
    "trainer.train()\n"
   ]
  },
  {
   "cell_type": "code",
   "execution_count": 38,
   "metadata": {},
   "outputs": [
    {
     "data": {
      "text/plain": [
       "{'图模态意图': 0,\n",
       " '营销文案撰写': 1,\n",
       " '达人营销咨询': 2,\n",
       " '行业营销咨询': 3,\n",
       " '上一轮意图': 4,\n",
       " '品牌营销咨询': 5,\n",
       " '文案撰写': 6,\n",
       " 'IDK': 7}"
      ]
     },
     "execution_count": 38,
     "metadata": {},
     "output_type": "execute_result"
    }
   ],
   "source": [
    "labe2index_dict"
   ]
  },
  {
   "cell_type": "code",
   "execution_count": 41,
   "metadata": {},
   "outputs": [
    {
     "name": "stderr",
     "output_type": "stream",
     "text": [
      "***** Running Prediction *****\n",
      "  Num examples = 3\n",
      "  Batch size = 2\n",
      "100%|██████████| 2/2 [00:00<00:00, 50.49it/s]"
     ]
    },
    {
     "name": "stdout",
     "output_type": "stream",
     "text": [
      "[5 6 1]\n"
     ]
    },
    {
     "name": "stderr",
     "output_type": "stream",
     "text": [
      "\n"
     ]
    }
   ],
   "source": [
    "# 编码测试数据\n",
    "test_texts = [\"苹果公司在2024年的第一季度营销活动效果如何？\", \n",
    "              \"你能帮我想一个有创意的广告slogan吗？\",\n",
    "              \"我需要一份活动全案，用于我们即将举办的品牌活动。\"]\n",
    "test_encodings = tokenizer(test_texts, padding=True, truncation=True, return_tensors=\"pt\")\n",
    "\n",
    "# 创建自定义数据集\n",
    "class TextClassificationDataset(torch.utils.data.Dataset):\n",
    "    def __init__(self, encodings):\n",
    "        self.encodings = encodings\n",
    "\n",
    "    def __len__(self):\n",
    "        return len(self.encodings['input_ids'])\n",
    "\n",
    "    def __getitem__(self, idx):\n",
    "        return {key: tensor[idx] for key, tensor in self.encodings.items()}\n",
    "\n",
    "# 初始化测试集\n",
    "test_dataset = TextClassificationDataset(test_encodings)\n",
    "\n",
    "# 使用训练好的模型进行推理\n",
    "predictions = trainer.predict(test_dataset)\n",
    "\n",
    "# 获取预测结果\n",
    "predicted_labels = np.argmax(predictions.predictions, axis=-1)\n",
    "\n",
    "# 输出预测结果\n",
    "print(predicted_labels)\n"
   ]
  },
  {
   "cell_type": "code",
   "execution_count": null,
   "metadata": {},
   "outputs": [],
   "source": []
  }
 ],
 "metadata": {
  "kernelspec": {
   "display_name": "bertv01",
   "language": "python",
   "name": "python3"
  },
  "language_info": {
   "codemirror_mode": {
    "name": "ipython",
    "version": 3
   },
   "file_extension": ".py",
   "mimetype": "text/x-python",
   "name": "python",
   "nbconvert_exporter": "python",
   "pygments_lexer": "ipython3",
   "version": "3.10.0"
  }
 },
 "nbformat": 4,
 "nbformat_minor": 2
}
